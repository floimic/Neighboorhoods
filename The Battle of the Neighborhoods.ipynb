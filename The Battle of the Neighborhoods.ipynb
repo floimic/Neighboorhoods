{
    "nbformat_minor": 1, 
    "cells": [
        {
            "source": "#### This Note book is used for the IBM Data Science Capstone Project: the Battle of the neighborhoods\nGiven a city like the City of Toronto, the different neighborhoods will be segmented using the geographical coordinates of the center of each neighborhood.\n\nThen, using a combination of location data and machine learning, the neighbourhoods will be grouped into clusters.\n\n", 
            "cell_type": "markdown", 
            "metadata": {
                "collapsed": true
            }
        }, 
        {
            "execution_count": 4, 
            "cell_type": "code", 
            "metadata": {}, 
            "outputs": [], 
            "source": "import pandas as pd\nimport numpy as np"
        }, 
        {
            "execution_count": 5, 
            "cell_type": "code", 
            "metadata": {}, 
            "outputs": [
                {
                    "output_type": "stream", 
                    "name": "stdout", 
                    "text": "Hello Capstone Project Course!\n"
                }
            ], 
            "source": "print(\"Hello Capstone Project Course!\")"
        }, 
        {
            "execution_count": null, 
            "cell_type": "code", 
            "metadata": {}, 
            "outputs": [], 
            "source": ""
        }
    ], 
    "metadata": {
        "kernelspec": {
            "display_name": "Python 3.6", 
            "name": "python3", 
            "language": "python"
        }, 
        "language_info": {
            "mimetype": "text/x-python", 
            "nbconvert_exporter": "python", 
            "version": "3.6.8", 
            "name": "python", 
            "file_extension": ".py", 
            "pygments_lexer": "ipython3", 
            "codemirror_mode": {
                "version": 3, 
                "name": "ipython"
            }
        }
    }, 
    "nbformat": 4
}